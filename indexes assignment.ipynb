{
 "cells": [
  {
   "cell_type": "code",
   "execution_count": 1,
   "id": "15b6b972",
   "metadata": {},
   "outputs": [],
   "source": [
    "\n",
    "### 1. Find the Cartesian Product of the below given sets in the below cell. (In Python Code)\n",
    "\n",
    "A = set(['a','b','c'])\n",
    "\n",
    "S = {1,2,3}\n",
    "\n"
   ]
  },
  {
   "cell_type": "code",
   "execution_count": 5,
   "id": "eba352d0",
   "metadata": {},
   "outputs": [],
   "source": [
    "import itertools\n"
   ]
  },
  {
   "cell_type": "code",
   "execution_count": 6,
   "id": "d75bb24d",
   "metadata": {},
   "outputs": [
    {
     "name": "stdout",
     "output_type": "stream",
     "text": [
      "('b', 1)\n",
      "('b', 2)\n",
      "('b', 3)\n",
      "('c', 1)\n",
      "('c', 2)\n",
      "('c', 3)\n",
      "('a', 1)\n",
      "('a', 2)\n",
      "('a', 3)\n"
     ]
    }
   ],
   "source": [
    "for element in itertools.product(A,S):\n",
    "    print(element)"
   ]
  },
  {
   "cell_type": "code",
   "execution_count": 7,
   "id": "97e748c8",
   "metadata": {},
   "outputs": [],
   "source": [
    "### 2. Find all the possible permutations and number of permutations of A\n",
    "\n",
    "A = {'Red','Green','Blue'}\n"
   ]
  },
  {
   "cell_type": "code",
   "execution_count": 9,
   "id": "bc3473fa",
   "metadata": {},
   "outputs": [
    {
     "name": "stdout",
     "output_type": "stream",
     "text": [
      "[('Blue', 'Green', 'Red'), ('Blue', 'Red', 'Green'), ('Green', 'Blue', 'Red'), ('Green', 'Red', 'Blue'), ('Red', 'Blue', 'Green'), ('Red', 'Green', 'Blue')]\n"
     ]
    }
   ],
   "source": [
    "from itertools import permutations\n",
    "l = list(permutations(A))\n",
    "print(l)"
   ]
  },
  {
   "cell_type": "code",
   "execution_count": null,
   "id": "23dc6550",
   "metadata": {},
   "outputs": [],
   "source": [
    "'''\n",
    "3.Research Question on Hypothesis Testing\n",
    "In previous years, 52% of parents believed that electronics and social media was the cause of their teenager’s lack of sleep. Do more parents today believe that their teenager’s lack of sleep is caused due to electronics and social media?\n",
    "\n",
    "Population: Parents with a teenager (age 13-18)\n",
    "Parameter of Interest: p\n",
    "\n",
    "Null Hypothesis: p = 0.52\n",
    "Alternative Hypthosis: p > 0.52 (note that this is a one-sided test)\n",
    "\n",
    "Data: 1018 people were surveyed. 56% of those who were surveyed believe that their teenager’s lack of sleep is caused due to electronics and social media.\n",
    "'''"
   ]
  },
  {
   "cell_type": "code",
   "execution_count": 12,
   "id": "ba93709e",
   "metadata": {},
   "outputs": [
    {
     "data": {
      "text/plain": [
       "0.05"
      ]
     },
     "execution_count": 12,
     "metadata": {},
     "output_type": "execute_result"
    }
   ],
   "source": [
    "# significance = 5%\n",
    "5/100"
   ]
  },
  {
   "cell_type": "code",
   "execution_count": 13,
   "id": "a3c60636",
   "metadata": {},
   "outputs": [],
   "source": [
    "# defining the parameters\n",
    "n = 1018\n",
    "pnull = 0.52\n",
    "phat = 0.56"
   ]
  },
  {
   "cell_type": "code",
   "execution_count": 14,
   "id": "71774bff",
   "metadata": {},
   "outputs": [
    {
     "data": {
      "text/plain": [
       "(2.571067795759113, 0.005069273865860533)"
      ]
     },
     "execution_count": 14,
     "metadata": {},
     "output_type": "execute_result"
    }
   ],
   "source": [
    "import statsmodels.api as sm\n",
    "sm.stats.proportions_ztest(phat * n, n, pnull, alternative='larger')"
   ]
  },
  {
   "cell_type": "code",
   "execution_count": 15,
   "id": "f135a7e2",
   "metadata": {},
   "outputs": [
    {
     "name": "stdout",
     "output_type": "stream",
     "text": [
      "Set 1 (Multiples of 3): {3, 6, 9, 12, 15, 18, 21, 24, 27, 30}\n",
      "Set 2 (Multiples of 4): {4, 8, 12, 16, 20, 24, 28}\n",
      "Set Difference (Set 1 - Set 2): {3, 6, 9, 15, 18, 21, 27, 30}\n"
     ]
    }
   ],
   "source": [
    "#4. Calculate the set difference between the 2 sets (set1 - multipes of 3 upto a range of 31 and set2 - multiples of upto a range of 31)\n",
    "\n",
    "set1 = set(range(3, 32, 3))\n",
    "set2 = set(range(4, 32, 4))\n",
    "difference_set = set1 - set2\n",
    "print(\"Set 1 (Multiples of 3):\", set1)\n",
    "print(\"Set 2 (Multiples of 4):\", set2)\n",
    "print(\"Set Difference (Set 1 - Set 2):\",difference_set)"
   ]
  },
  {
   "cell_type": "code",
   "execution_count": 16,
   "id": "a8b8583c",
   "metadata": {},
   "outputs": [
    {
     "name": "stdout",
     "output_type": "stream",
     "text": [
      "Random Array: [99, 89, 5, 34, 86, 69, 58, 84, 64, 67]\n",
      "Mean: 65.5\n",
      "Variance: 716.25\n",
      "Standard Deviation: 26.76284738214527\n"
     ]
    }
   ],
   "source": [
    "# 5. Calculate a function to generate random arrays with range of (1,100) and the naive functions to calculate Mean, Varience and Standard deviation for the array generated\n",
    "\n",
    "import random\n",
    "import math\n",
    "\n",
    "def generate_random_array(size):\n",
    "    return [random.randint(1, 100) for _ in range(size)]\n",
    "\n",
    "def calculate_mean(arr):\n",
    "    return sum(arr) / len(arr)\n",
    "\n",
    "def calculate_variance(arr):\n",
    "    mean = calculate_mean(arr)\n",
    "    return sum((x - mean) ** 2 for x in arr) / len(arr)\n",
    "\n",
    "def calculate_standard_deviation(arr):\n",
    "    return math.sqrt(calculate_variance(arr))\n",
    "\n",
    "# Generate random array\n",
    "random_array = generate_random_array(10)  # Change the size as needed\n",
    "\n",
    "# Calculate mean, variance, and standard deviation\n",
    "mean = calculate_mean(random_array)\n",
    "variance = calculate_variance(random_array)\n",
    "std_deviation = calculate_standard_deviation(random_array)\n",
    "\n",
    "print(\"Random Array:\", random_array)\n",
    "print(\"Mean:\", mean)\n",
    "print(\"Variance:\", variance)\n",
    "print(\"Standard Deviation:\", std_deviation)"
   ]
  },
  {
   "cell_type": "code",
   "execution_count": null,
   "id": "6d0a4489",
   "metadata": {},
   "outputs": [],
   "source": []
  }
 ],
 "metadata": {
  "kernelspec": {
   "display_name": "Python 3 (ipykernel)",
   "language": "python",
   "name": "python3"
  },
  "language_info": {
   "codemirror_mode": {
    "name": "ipython",
    "version": 3
   },
   "file_extension": ".py",
   "mimetype": "text/x-python",
   "name": "python",
   "nbconvert_exporter": "python",
   "pygments_lexer": "ipython3",
   "version": "3.11.4"
  }
 },
 "nbformat": 4,
 "nbformat_minor": 5
}
